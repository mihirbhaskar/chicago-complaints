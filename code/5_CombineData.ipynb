{
 "cells": [
  {
   "cell_type": "markdown",
   "id": "cbed9eb2",
   "metadata": {},
   "source": [
    "# Combining all the individually-cleaned datasets\n",
    "#### Mihir Bhaskar\n",
    "#### 11/25/2021\n",
    "\n",
    "This file merges all the tract-level information created by the previous cleaning files into one consolidated dataset, and exports it as a .csv file."
   ]
  },
  {
   "cell_type": "code",
   "execution_count": 1,
   "id": "6d5e3e5f",
   "metadata": {},
   "outputs": [],
   "source": [
    "import pandas as pd\n",
    "import numpy as np\n",
    "from pyprojroot import here"
   ]
  },
  {
   "cell_type": "code",
   "execution_count": 2,
   "id": "da3849ce",
   "metadata": {},
   "outputs": [],
   "source": [
    "# Importing datasets\n",
    "acs = pd.read_csv(here('./data/CleanACSFile.csv'))\n",
    "cmp = pd.read_csv(here('./data/CleanComplaints.csv'))\n",
    "opendata = pd.read_csv(here('./data/CleanOpenData.csv'))\n",
    "\n",
    "# Merging them\n",
    "final = acs.merge(cmp, how='left', on=['geo_id']) \n",
    "final = final.merge(opendata, how='left', on=['geo_id'])\n",
    "\n",
    "# Exporting the merged file\n",
    "final.head()\n",
    "\n",
    "final.to_csv(here('./data/Combined.csv'), index=False)\n"
   ]
  },
  {
   "cell_type": "code",
   "execution_count": null,
   "id": "64173754",
   "metadata": {},
   "outputs": [],
   "source": []
  }
 ],
 "metadata": {
  "kernelspec": {
   "display_name": "Python 3",
   "language": "python",
   "name": "python3"
  },
  "language_info": {
   "codemirror_mode": {
    "name": "ipython",
    "version": 3
   },
   "file_extension": ".py",
   "mimetype": "text/x-python",
   "name": "python",
   "nbconvert_exporter": "python",
   "pygments_lexer": "ipython3",
   "version": "3.8.8"
  }
 },
 "nbformat": 4,
 "nbformat_minor": 5
}
